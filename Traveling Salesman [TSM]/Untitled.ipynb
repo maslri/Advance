{
 "cells": [
  {
   "cell_type": "markdown",
   "id": "bcef71bb",
   "metadata": {},
   "source": [
    "### TSM With Genetics"
   ]
  },
  {
   "cell_type": "markdown",
   "id": "8164fb46",
   "metadata": {},
   "source": [
    "### Import Dependencies"
   ]
  },
  {
   "cell_type": "code",
   "execution_count": 1,
   "id": "c5e3de66",
   "metadata": {},
   "outputs": [],
   "source": [
    "from random import randint as rnd\n",
    "from random import shuffle"
   ]
  },
  {
   "cell_type": "code",
   "execution_count": null,
   "id": "5cf9a8e9",
   "metadata": {},
   "outputs": [],
   "source": []
  }
 ],
 "metadata": {
  "kernelspec": {
   "display_name": "Python 3 (ipykernel)",
   "language": "python",
   "name": "python3"
  },
  "language_info": {
   "codemirror_mode": {
    "name": "ipython",
    "version": 3
   },
   "file_extension": ".py",
   "mimetype": "text/x-python",
   "name": "python",
   "nbconvert_exporter": "python",
   "pygments_lexer": "ipython3",
   "version": "3.11.3"
  }
 },
 "nbformat": 4,
 "nbformat_minor": 5
}
