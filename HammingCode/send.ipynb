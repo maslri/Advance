{
 "cells": [
  {
   "cell_type": "code",
   "execution_count": 1,
   "metadata": {},
   "outputs": [],
   "source": [
    "import numpy as np"
   ]
  },
  {
   "cell_type": "code",
   "execution_count": 2,
   "metadata": {},
   "outputs": [
    {
     "name": "stdout",
     "output_type": "stream",
     "text": [
      "80\n"
     ]
    }
   ],
   "source": [
    "alphabet = list(map(\n",
    "    lambda i:i,\n",
    "    \"abcdefghijklmnopqrstuvwxyzABCDEFGHIJKLMNOPQRSTUVWXYZ0123456789 !@#$%^&*()_+=<>.,\"\n",
    "))\n",
    "length = len(alphabet)\n",
    "print(length)"
   ]
  },
  {
   "cell_type": "code",
   "execution_count": 3,
   "metadata": {},
   "outputs": [
    {
     "name": "stdout",
     "output_type": "stream",
     "text": [
      "[33, 4, 11, 11, 14, 79, 62, 48, 14, 17, 11, 3, 63]\n",
      "['0b100001', '0b100', '0b1011', '0b1011', '0b1110', '0b1001111', '0b111110', '0b110000', '0b1110', '0b10001', '0b1011', '0b11', '0b111111']\n"
     ]
    }
   ],
   "source": [
    "_str = \"Hello, World!\"\n",
    "binary_rep = []\n",
    "for i in _str:\n",
    "    binary_rep.append(alphabet.index(i))\n",
    "    # binary_rep.append(bin(alphabet.index(i)))\n",
    "print(binary_rep)\n",
    "binary_rep = [bin(i) for i in binary_rep]\n",
    "print(binary_rep)"
   ]
  },
  {
   "cell_type": "code",
   "execution_count": 4,
   "metadata": {},
   "outputs": [],
   "source": [
    "def block_creator(binary_code):\n",
    "    # removing 0b from the begining\n",
    "    binary_code = binary_code[2:]\n",
    "    length = len(binary_code)\n",
    "    # adding padding\n",
    "    for i in range(length,11):\n",
    "        binary_code = \"0\" + binary_code\n",
    "    block = np.zeros((4,4), np.int8)\n",
    "    # creating Hamming block\n",
    "    places = [[0,3],[1,1],[1,2],[1,3],[2,1],[2,2],[2,3],[3,0],[3,1],[3,2],[3,3]]\n",
    "    for indx, val in enumerate(binary_code):\n",
    "        row, col = places[indx]\n",
    "        block[row][col] = val\n",
    "    #Q1\n",
    "    if (np.count_nonzero(block[:,1]) + np.count_nonzero(block[:,3])) % 2:\n",
    "        block[0][1]=1\n",
    "    #Q2\n",
    "    if (np.count_nonzero(block[:,2]) + np.count_nonzero(block[:,3])) % 2:\n",
    "        block[0][2]=1\n",
    "    #Q3\n",
    "    if (np.count_nonzero(block[1]) + np.count_nonzero(block[3])) % 2:\n",
    "        block[1][0]=1\n",
    "    #Q4\n",
    "    if (np.count_nonzero(block[2]) + np.count_nonzero(block[3])) % 2:\n",
    "        block[2][0]=1\n",
    "    \n",
    "    if np.count_nonzero(block) % 2 :\n",
    "        block[0][0] = 1\n",
    "        \n",
    "    return block"
   ]
  },
  {
   "cell_type": "code",
   "execution_count": 5,
   "metadata": {},
   "outputs": [
    {
     "name": "stdout",
     "output_type": "stream",
     "text": [
      "0100100000100001011010010000000001111000000100010111100000010001111110011001000010111011000100010111000110110010100010000010001011111001100100001100000000000011011110000001000110001000000100011001100100110011\n"
     ]
    }
   ],
   "source": [
    "output = \"\"\n",
    "for i in binary_rep:\n",
    "    _list = block_creator(i).flatten(order=\"F\")\n",
    "    _list = _list.tolist()\n",
    "    output += \"\".join([str(i) for i in _list])\n",
    "print(output)"
   ]
  },
  {
   "cell_type": "code",
   "execution_count": 6,
   "metadata": {},
   "outputs": [],
   "source": [
    "with open(\"data.txt\", \"w\") as fi :\n",
    "    fi.write(output)"
   ]
  }
 ],
 "metadata": {
  "kernelspec": {
   "display_name": "Python 3",
   "language": "python",
   "name": "python3"
  },
  "language_info": {
   "codemirror_mode": {
    "name": "ipython",
    "version": 3
   },
   "file_extension": ".py",
   "mimetype": "text/x-python",
   "name": "python",
   "nbconvert_exporter": "python",
   "pygments_lexer": "ipython3",
   "version": "3.11.3"
  },
  "orig_nbformat": 4
 },
 "nbformat": 4,
 "nbformat_minor": 2
}
