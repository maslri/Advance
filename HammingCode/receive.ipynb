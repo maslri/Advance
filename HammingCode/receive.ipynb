{
 "cells": [
  {
   "cell_type": "code",
   "execution_count": 1,
   "metadata": {},
   "outputs": [],
   "source": [
    "import numpy as np"
   ]
  },
  {
   "cell_type": "code",
   "execution_count": 2,
   "metadata": {},
   "outputs": [],
   "source": [
    "with open(\"data.txt\", \"r\") as fi :\n",
    "    data = fi.read()\n",
    "# print(data)"
   ]
  },
  {
   "cell_type": "code",
   "execution_count": 3,
   "metadata": {},
   "outputs": [],
   "source": [
    "binary_rep = []\n",
    "for i in range(0, len(data), 16) :\n",
    "    binary_rep.append(data[i:i+16])\n",
    "# print(binary_rep)"
   ]
  },
  {
   "cell_type": "code",
   "execution_count": 4,
   "metadata": {},
   "outputs": [],
   "source": [
    "def block_creator(str_rep) :\n",
    "    _list = list(map(lambda i: int(i), str_rep))\n",
    "    block = np.array(_list)\n",
    "    block = block.reshape((4,4))\n",
    "    # print(block)\n",
    "    error = [False, False, False, False]\n",
    "    if (np.count_nonzero(block[1:, 1]) + np.count_nonzero(block[:, 3])) % 2 != block[0][1] :\n",
    "        error[0] = True\n",
    "    if (np.count_nonzero(block[1:, 2]) + np.count_nonzero(block[:, 3])) % 2 != block[0][2] :\n",
    "        error[1] = True\n",
    "    if (np.count_nonzero(block[1, 1:]) + np.count_nonzero(block[3])) % 2 != block[1][0] :\n",
    "        error[2] = True\n",
    "    if (np.count_nonzero(block[2, 1:]) + np.count_nonzero(block[3])) % 2 != block[2][0] :\n",
    "        error[3] = True\n",
    "    # print(error)\n",
    "    col_error = None\n",
    "    row_error = None\n",
    "    if any(error) :\n",
    "        if error[0] and error[1] :\n",
    "            col_error = 3\n",
    "        elif error[0] and not error[1] :\n",
    "            col_error = 1\n",
    "        elif not error[0] and error[1] :\n",
    "            col_error = 2\n",
    "        else :\n",
    "            col_error = 0\n",
    "        if error[2] and error[3] :\n",
    "            row_error = 3\n",
    "        elif error[2] and not error[3] :\n",
    "            row_error = 1\n",
    "        elif not error[2] and error[3] :\n",
    "            row_error = 2\n",
    "        else :\n",
    "            row_error = 0\n",
    "        block[row_error][col_error] = (block[row_error][col_error] + 1) % 2\n",
    "    places = [[0,3],[1,1],[1,2],[1,3],[2,1],[2,2],[2,3],[3,0],[3,1],[3,2],[3,3]]\n",
    "    _str = \"\"\n",
    "    for row, col in places :\n",
    "        _str += str(block[col][row])\n",
    "    _str = int(_str)\n",
    "    _str = \"0b\" + str(_str)\n",
    "    return _str"
   ]
  },
  {
   "cell_type": "code",
   "execution_count": 5,
   "metadata": {},
   "outputs": [
    {
     "name": "stdout",
     "output_type": "stream",
     "text": [
      "[33, 4, 11, 11, 14, 79, 62, 48, 14, 17, 11, 3, 63]\n"
     ]
    }
   ],
   "source": [
    "for i in range(len(binary_rep)) :\n",
    "    binary_rep[i] = int(block_creator(binary_rep[i]), 2)\n",
    "print(binary_rep)"
   ]
  },
  {
   "cell_type": "code",
   "execution_count": 6,
   "metadata": {},
   "outputs": [],
   "source": [
    "alphabet = list(map(\n",
    "    lambda i:i,\n",
    "    \"abcdefghijklmnopqrstuvwxyzABCDEFGHIJKLMNOPQRSTUVWXYZ0123456789 !@#$%^&*()_+=<>.,\"\n",
    "))"
   ]
  },
  {
   "cell_type": "code",
   "execution_count": 7,
   "metadata": {},
   "outputs": [
    {
     "name": "stdout",
     "output_type": "stream",
     "text": [
      "Hello, World!\n"
     ]
    }
   ],
   "source": [
    "original_data = \"\"\n",
    "for i in binary_rep :\n",
    "    original_data += alphabet[i]\n",
    "print(original_data)"
   ]
  },
  {
   "cell_type": "code",
   "execution_count": null,
   "metadata": {},
   "outputs": [],
   "source": []
  }
 ],
 "metadata": {
  "kernelspec": {
   "display_name": "Python 3",
   "language": "python",
   "name": "python3"
  },
  "language_info": {
   "codemirror_mode": {
    "name": "ipython",
    "version": 3
   },
   "file_extension": ".py",
   "mimetype": "text/x-python",
   "name": "python",
   "nbconvert_exporter": "python",
   "pygments_lexer": "ipython3",
   "version": "3.11.3"
  },
  "orig_nbformat": 4
 },
 "nbformat": 4,
 "nbformat_minor": 2
}
