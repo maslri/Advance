{
 "cells": [
  {
   "cell_type": "code",
   "execution_count": 1,
   "metadata": {},
   "outputs": [
    {
     "name": "stdout",
     "output_type": "stream",
     "text": [
      "0b0\n",
      "0b1\n",
      "0b10\n",
      "0b11\n",
      "0b100\n",
      "0b101\n",
      "0b110\n"
     ]
    }
   ],
   "source": [
    "print(bin(0))\n",
    "print(bin(1))\n",
    "print(bin(2))\n",
    "print(bin(3))\n",
    "print(bin(4))\n",
    "print(bin(5))\n",
    "print(bin(6))"
   ]
  },
  {
   "cell_type": "code",
   "execution_count": 6,
   "metadata": {},
   "outputs": [
    {
     "name": "stdout",
     "output_type": "stream",
     "text": [
      "0\n",
      "1\n",
      "2\n",
      "3\n",
      "4\n",
      "5\n",
      "6\n",
      "2047\n"
     ]
    }
   ],
   "source": [
    "print(int(\"0b0\",2))\n",
    "print(int(\"0b1\",2))\n",
    "print(int(\"0b10\",2))\n",
    "print(int(\"0b11\",2))\n",
    "print(int(\"0b100\",2))\n",
    "print(int(\"0b101\",2))\n",
    "print(int(\"0b110\",2))\n",
    "print(int(\"0b11111111111\",2))"
   ]
  }
 ],
 "metadata": {
  "kernelspec": {
   "display_name": "Python 3",
   "language": "python",
   "name": "python3"
  },
  "language_info": {
   "codemirror_mode": {
    "name": "ipython",
    "version": 3
   },
   "file_extension": ".py",
   "mimetype": "text/x-python",
   "name": "python",
   "nbconvert_exporter": "python",
   "pygments_lexer": "ipython3",
   "version": "3.11.3"
  },
  "orig_nbformat": 4
 },
 "nbformat": 4,
 "nbformat_minor": 2
}
