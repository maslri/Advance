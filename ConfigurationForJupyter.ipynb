{
 "cells": [
  {
   "attachments": {},
   "cell_type": "markdown",
   "id": "7069ca1d",
   "metadata": {},
   "source": [
    "jt -l\n",
    "\n",
    "jt -t {chesterish}\n",
    "\n",
    "jt -r"
   ]
  },
  {
   "attachments": {},
   "cell_type": "markdown",
   "id": "844b5f01",
   "metadata": {},
   "source": [
    "algothirm genetic\n",
    "\n"
   ]
  }
 ],
 "metadata": {
  "kernelspec": {
   "display_name": "Python 3 (ipykernel)",
   "language": "python",
   "name": "python3"
  },
  "language_info": {
   "codemirror_mode": {
    "name": "ipython",
    "version": 3
   },
   "file_extension": ".py",
   "mimetype": "text/x-python",
   "name": "python",
   "nbconvert_exporter": "python",
   "pygments_lexer": "ipython3",
   "version": "3.11.3"
  }
 },
 "nbformat": 4,
 "nbformat_minor": 5
}
