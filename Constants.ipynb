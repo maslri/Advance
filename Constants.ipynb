{
 "cells": [
  {
   "attachments": {},
   "cell_type": "markdown",
   "metadata": {},
   "source": [
    "#### In Python, __slots__ is a special attribute that you can define in a class to explicitly specify the attributes (instance variables) that the class can have. When you define __slots__, you are essentially telling Python to restrict the set of attributes that can be assigned to instances of that class, which can be useful for memory optimization and to prevent accidental creation of new attributes."
   ]
  },
  {
   "cell_type": "code",
   "execution_count": 3,
   "metadata": {},
   "outputs": [],
   "source": [
    "PI = 3.14\n",
    "PI = 5 # ???"
   ]
  },
  {
   "cell_type": "code",
   "execution_count": 1,
   "metadata": {},
   "outputs": [
    {
     "name": "stdout",
     "output_type": "stream",
     "text": [
      "3.14\n"
     ]
    }
   ],
   "source": [
    "def PI() :\n",
    "    return 3.14\n",
    "print(PI()) # ???"
   ]
  },
  {
   "cell_type": "code",
   "execution_count": 6,
   "metadata": {},
   "outputs": [
    {
     "ename": "AttributeError",
     "evalue": "'Constants' object attribute 'PI' is read-only",
     "output_type": "error",
     "traceback": [
      "\u001b[1;31m---------------------------------------------------------------------------\u001b[0m",
      "\u001b[1;31mAttributeError\u001b[0m                            Traceback (most recent call last)",
      "Cell \u001b[1;32mIn[6], line 6\u001b[0m\n\u001b[0;32m      3\u001b[0m     PI \u001b[39m=\u001b[39m \u001b[39m3.14\u001b[39m\n\u001b[0;32m      5\u001b[0m Constant \u001b[39m=\u001b[39m Constants()\n\u001b[1;32m----> 6\u001b[0m Constant\u001b[39m.\u001b[39;49mPI \u001b[39m=\u001b[39m \u001b[39m5\u001b[39m \u001b[39m# OK !!!\u001b[39;00m\n\u001b[0;32m      7\u001b[0m Constant\u001b[39m.\u001b[39mPI\n",
      "\u001b[1;31mAttributeError\u001b[0m: 'Constants' object attribute 'PI' is read-only"
     ]
    }
   ],
   "source": [
    "class Constants(object) :\n",
    "    __slots__ = ()\n",
    "    PI = 3.14\n",
    "\n",
    "Constant = Constants()\n",
    "Constant.PI = 5 # OK !!!\n",
    "Constant.PI"
   ]
  },
  {
   "cell_type": "code",
   "execution_count": 7,
   "metadata": {},
   "outputs": [
    {
     "name": "stdout",
     "output_type": "stream",
     "text": [
      "__main__\n"
     ]
    }
   ],
   "source": [
    "print(__name__)"
   ]
  },
  {
   "cell_type": "code",
   "execution_count": 8,
   "metadata": {},
   "outputs": [],
   "source": [
    "class Car1 :\n",
    "    def __init__(self, color, max_speed, model) -> None:\n",
    "        self.color = color\n",
    "        self.max_speed = max_speed\n",
    "        self.model = model\n",
    "    def horn(self) :\n",
    "        print(\"BIP BIP!\")"
   ]
  },
  {
   "cell_type": "code",
   "execution_count": 9,
   "metadata": {},
   "outputs": [
    {
     "data": {
      "text/plain": [
       "{'color': 'Cherry', 'max_speed': 180, 'model': 'Saba'}"
      ]
     },
     "execution_count": 9,
     "metadata": {},
     "output_type": "execute_result"
    }
   ],
   "source": [
    "prida = Car1(\"Cherry\", 180, \"Saba\")\n",
    "prida.__dict__"
   ]
  },
  {
   "cell_type": "code",
   "execution_count": 10,
   "metadata": {},
   "outputs": [],
   "source": [
    "class Car2 :\n",
    "    __slots__ = [\"color\", \"max_speed\", \"model\"]\n",
    "    def __init__(self, color, max_speed, model) -> None:\n",
    "        self.color = color\n",
    "        self.max_speed = max_speed\n",
    "        self.model = model\n",
    "    def horn(self) :\n",
    "        print(\"BIP BIP!\")"
   ]
  },
  {
   "cell_type": "code",
   "execution_count": 11,
   "metadata": {},
   "outputs": [
    {
     "ename": "AttributeError",
     "evalue": "'Car2' object has no attribute '__dict__'",
     "output_type": "error",
     "traceback": [
      "\u001b[1;31m---------------------------------------------------------------------------\u001b[0m",
      "\u001b[1;31mAttributeError\u001b[0m                            Traceback (most recent call last)",
      "Cell \u001b[1;32mIn[11], line 2\u001b[0m\n\u001b[0;32m      1\u001b[0m prida \u001b[39m=\u001b[39m Car2(\u001b[39m\"\u001b[39m\u001b[39mCherry\u001b[39m\u001b[39m\"\u001b[39m, \u001b[39m180\u001b[39m, \u001b[39m\"\u001b[39m\u001b[39mSaba\u001b[39m\u001b[39m\"\u001b[39m)\n\u001b[1;32m----> 2\u001b[0m prida\u001b[39m.\u001b[39;49m\u001b[39m__dict__\u001b[39;49m\n",
      "\u001b[1;31mAttributeError\u001b[0m: 'Car2' object has no attribute '__dict__'"
     ]
    }
   ],
   "source": [
    "prida = Car2(\"Cherry\", 180, \"Saba\")\n",
    "prida.__dict__"
   ]
  }
 ],
 "metadata": {
  "kernelspec": {
   "display_name": "Python 3",
   "language": "python",
   "name": "python3"
  },
  "language_info": {
   "codemirror_mode": {
    "name": "ipython",
    "version": 3
   },
   "file_extension": ".py",
   "mimetype": "text/x-python",
   "name": "python",
   "nbconvert_exporter": "python",
   "pygments_lexer": "ipython3",
   "version": "3.11.3"
  },
  "orig_nbformat": 4
 },
 "nbformat": 4,
 "nbformat_minor": 2
}
