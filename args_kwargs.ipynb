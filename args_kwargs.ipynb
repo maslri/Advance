{
 "cells": [
  {
   "cell_type": "code",
   "execution_count": null,
   "id": "2bedae32",
   "metadata": {},
   "outputs": [],
   "source": [
    "def my_sum(x,y,z) :\n",
    "    return x + y + z"
   ]
  },
  {
   "cell_type": "code",
   "execution_count": null,
   "id": "b95dae69",
   "metadata": {},
   "outputs": [],
   "source": [
    "my_sum(5,3, 2)"
   ]
  },
  {
   "cell_type": "code",
   "execution_count": null,
   "id": "41f99b58",
   "metadata": {},
   "outputs": [],
   "source": [
    "def my_sum(*args) :\n",
    "    _sum = 0\n",
    "    for i in args :\n",
    "        _sum += i\n",
    "    return _sum"
   ]
  },
  {
   "cell_type": "code",
   "execution_count": null,
   "id": "020aecdf",
   "metadata": {},
   "outputs": [],
   "source": [
    "my_sum(2,3,7,5,1,9,4,21)"
   ]
  },
  {
   "cell_type": "code",
   "execution_count": null,
   "id": "4736b109",
   "metadata": {},
   "outputs": [],
   "source": [
    "num = ([2,4,5,6,7,1,2,-5])\n",
    "my_sum(*num)"
   ]
  },
  {
   "attachments": {},
   "cell_type": "markdown",
   "id": "011bc620",
   "metadata": {},
   "source": [
    "### ----------------------- Step 2"
   ]
  },
  {
   "cell_type": "code",
   "execution_count": null,
   "id": "c6866568",
   "metadata": {},
   "outputs": [],
   "source": [
    "def my_func(x, y, *args) :\n",
    "    return x + y + sum(args)"
   ]
  },
  {
   "cell_type": "code",
   "execution_count": null,
   "id": "7d85eca2",
   "metadata": {},
   "outputs": [],
   "source": [
    "my_func(2,5,9,7,8,6,2,5)"
   ]
  },
  {
   "cell_type": "code",
   "execution_count": null,
   "id": "4d4901ce",
   "metadata": {},
   "outputs": [],
   "source": [
    "def my_func(**kwargs) :\n",
    "    for key, value in kwargs.items() :\n",
    "        print(f\"key={key}, value={value}\")\n",
    "        # print(value, end=\"-\")"
   ]
  },
  {
   "cell_type": "code",
   "execution_count": null,
   "id": "6935ceec",
   "metadata": {},
   "outputs": [],
   "source": [
    "my_func(st1=5, st2=8, st3=15)"
   ]
  },
  {
   "cell_type": "code",
   "execution_count": null,
   "id": "f5d6c831",
   "metadata": {},
   "outputs": [],
   "source": [
    "_dic = {\"s1\" : \"ali\", \"s2\" : \"mohammad\"}\n",
    "my_func(**_dic)"
   ]
  },
  {
   "cell_type": "code",
   "execution_count": null,
   "id": "b8e2d01c",
   "metadata": {},
   "outputs": [],
   "source": []
  }
 ],
 "metadata": {
  "kernelspec": {
   "display_name": "Python 3 (ipykernel)",
   "language": "python",
   "name": "python3"
  },
  "language_info": {
   "codemirror_mode": {
    "name": "ipython",
    "version": 3
   },
   "file_extension": ".py",
   "mimetype": "text/x-python",
   "name": "python",
   "nbconvert_exporter": "python",
   "pygments_lexer": "ipython3",
   "version": "3.11.3"
  }
 },
 "nbformat": 4,
 "nbformat_minor": 5
}
