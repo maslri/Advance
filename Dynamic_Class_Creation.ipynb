{
 "cells": [
  {
   "cell_type": "code",
   "execution_count": 2,
   "metadata": {},
   "outputs": [
    {
     "name": "stdout",
     "output_type": "stream",
     "text": [
      "<class '__main__.Cat1'>\n",
      "{'color': 'black&white'}\n"
     ]
    }
   ],
   "source": [
    "class Cat1 :\n",
    "    def __init__(self, color) -> None:\n",
    "        self.color = color\n",
    "    def myf(self) :\n",
    "        print(\"OK!\")\n",
    "\n",
    "ginger1 = Cat1(\"black&white\")\n",
    "print(type(ginger1))\n",
    "print(ginger1.__dict__)"
   ]
  },
  {
   "cell_type": "code",
   "execution_count": 1,
   "metadata": {},
   "outputs": [
    {
     "name": "stdout",
     "output_type": "stream",
     "text": [
      "<class '__main__.Cat2'>\n"
     ]
    }
   ],
   "source": [
    "def constractor(self) :\n",
    "    pass\n",
    "Cat2 = type(\"Cat2\", (), {\"__init__\" : constractor})\n",
    "ginger2 = Cat2()\n",
    "print(type(ginger2))"
   ]
  }
 ],
 "metadata": {
  "kernelspec": {
   "display_name": "Python 3",
   "language": "python",
   "name": "python3"
  },
  "language_info": {
   "codemirror_mode": {
    "name": "ipython",
    "version": 3
   },
   "file_extension": ".py",
   "mimetype": "text/x-python",
   "name": "python",
   "nbconvert_exporter": "python",
   "pygments_lexer": "ipython3",
   "version": "3.11.3"
  },
  "orig_nbformat": 4
 },
 "nbformat": 4,
 "nbformat_minor": 2
}
